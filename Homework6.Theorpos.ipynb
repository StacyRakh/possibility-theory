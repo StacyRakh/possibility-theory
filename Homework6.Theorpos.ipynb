{
 "cells": [
  {
   "cell_type": "markdown",
   "id": "2c3a4730",
   "metadata": {},
   "source": [
    "## Задание 1"
   ]
  },
  {
   "cell_type": "markdown",
   "id": "e8232277",
   "metadata": {},
   "source": [
    "Даны значения величины заработной платы заемщиков банка (zp) и значения их поведенческого кредитного скоринга (ks):\n",
    "zp = [35, 45, 190, 200, 40, 70, 54, 150, 120, 110],\n",
    "ks = [401, 574, 874, 919, 459, 739, 653, 902, 746, 832].\n",
    "Найдите ковариацию этих двух величин с помощью элементарных действий, а затем с помощью функции cov из numpy\n",
    "Полученные значения должны быть равны.\n",
    "Найдите коэффициент корреляции Пирсона с помощью ковариации и среднеквадратичных отклонений двух признаков,\n",
    "а затем с использованием функций из библиотек numpy и pandas."
   ]
  },
  {
   "cell_type": "code",
   "execution_count": 2,
   "id": "b063a833",
   "metadata": {},
   "outputs": [
    {
     "data": {
      "text/plain": [
       "9157.839999999997"
      ]
     },
     "execution_count": 2,
     "metadata": {},
     "output_type": "execute_result"
    }
   ],
   "source": [
    "from math import sqrt\n",
    "\n",
    "import pandas as pd\n",
    "import numpy as np\n",
    "import scipy.stats as stats\n",
    "\n",
    "zp = np.array([35, 45, 190, 200, 40, 70, 54, 150, 120, 110])\n",
    "ks = np.array([401, 574, 874, 919, 459, 739, 653, 902, 746, 832])\n",
    "\n",
    "cov_hand = np.mean(zp*ks) - (np.mean(zp) * np.mean(ks))\n",
    "cov_hand"
   ]
  },
  {
   "cell_type": "code",
   "execution_count": 3,
   "id": "652ad3bd",
   "metadata": {},
   "outputs": [
    {
     "data": {
      "text/plain": [
       "array([[ 3494.64,  9157.84],\n",
       "       [ 9157.84, 30468.89]])"
      ]
     },
     "execution_count": 3,
     "metadata": {},
     "output_type": "execute_result"
    }
   ],
   "source": [
    "cov_auto = np.cov(zp, ks, ddof=0)\n",
    "cov_auto\n"
   ]
  },
  {
   "cell_type": "code",
   "execution_count": 4,
   "id": "dc503f4b",
   "metadata": {},
   "outputs": [
    {
     "data": {
      "text/plain": [
       "0.8874900920739158"
      ]
     },
     "execution_count": 4,
     "metadata": {},
     "output_type": "execute_result"
    }
   ],
   "source": [
    "corr_hand = cov_hand/(np.std(zp) * np.std(ks))\n",
    "corr_hand"
   ]
  },
  {
   "cell_type": "code",
   "execution_count": 5,
   "id": "1c93ff0f",
   "metadata": {},
   "outputs": [
    {
     "data": {
      "text/plain": [
       "array([[1.        , 0.88749009],\n",
       "       [0.88749009, 1.        ]])"
      ]
     },
     "execution_count": 5,
     "metadata": {},
     "output_type": "execute_result"
    }
   ],
   "source": [
    "corr_auto = np.corrcoef(zp, ks)\n",
    "corr_auto\n"
   ]
  },
  {
   "cell_type": "code",
   "execution_count": 6,
   "id": "303e94ef",
   "metadata": {},
   "outputs": [
    {
     "data": {
      "text/plain": [
       "0.8874900920739162"
      ]
     },
     "execution_count": 6,
     "metadata": {},
     "output_type": "execute_result"
    }
   ],
   "source": [
    "zp1 = pd.Series([35, 45, 190, 200, 40, 70, 54, 150, 120, 110])\n",
    "ks1 = pd.Series([401, 574, 874, 919, 459, 739, 653, 902, 746, 832])\n",
    "corr_pandas = zp1.corr(ks1, method=\"pearson\")\n",
    "corr_pandas"
   ]
  },
  {
   "cell_type": "markdown",
   "id": "f91f476a",
   "metadata": {},
   "source": [
    "## Задание 2"
   ]
  },
  {
   "cell_type": "markdown",
   "id": "bfd09a6c",
   "metadata": {},
   "source": [
    "Измерены значения IQ выборки студентов,\n",
    "обучающихся в местных технических вузах:\n",
    "131, 125, 115, 122, 131, 115, 107, 99, 125, 111.\n",
    "Известно, что в генеральной совокупности IQ распределен нормально.\n",
    "Найдите доверительный интервал для математического ожидания с надежностью 0.95."
   ]
  },
  {
   "cell_type": "code",
   "execution_count": 12,
   "id": "7b4d3d45",
   "metadata": {},
   "outputs": [],
   "source": [
    "iq = [131, 125, 115, 122, 131, 115, 107, 99, 125, 111]\n",
    "M2 = np.mean(iq)\n",
    "sigma_2 = np.std(iq, ddof=1)\n",
    "t2 = 2.26"
   ]
  },
  {
   "cell_type": "code",
   "execution_count": 13,
   "id": "0497ca55",
   "metadata": {},
   "outputs": [
    {
     "data": {
      "text/plain": [
       "7.5367225709263765"
      ]
     },
     "execution_count": 13,
     "metadata": {},
     "output_type": "execute_result"
    }
   ],
   "source": [
    "Z2 = t2*sigma_2/sqrt(len(iq))\n",
    "Z2"
   ]
  },
  {
   "cell_type": "code",
   "execution_count": 14,
   "id": "1df11e99",
   "metadata": {},
   "outputs": [
    {
     "name": "stdout",
     "output_type": "stream",
     "text": [
      "Искомый доверительный интервал равен (110.56327742907362;125.63672257092637)\n"
     ]
    }
   ],
   "source": [
    "print (f'Искомый доверительный интервал равен ({M2-Z2};{M2+Z2})')"
   ]
  },
  {
   "cell_type": "markdown",
   "id": "66e95072",
   "metadata": {},
   "source": [
    "## Задание 3"
   ]
  },
  {
   "cell_type": "markdown",
   "id": "1ab95849",
   "metadata": {},
   "source": [
    "Известно, что рост футболистов в сборной распределен нормально\n",
    "с дисперсией генеральной совокупности, равной 25 кв.см. Объем выборки равен 27,\n",
    "среднее выборочное составляет 174.2. Найдите доверительный интервал для математического\n",
    "ожидания с надежностью 0.95"
   ]
  },
  {
   "cell_type": "code",
   "execution_count": 19,
   "id": "f8bf6ac8",
   "metadata": {},
   "outputs": [],
   "source": [
    "Dgen3 = 25\n",
    "N3 = 27\n",
    "M3 = 174.2\n",
    "t3 = 1.96\n"
   ]
  },
  {
   "cell_type": "code",
   "execution_count": 21,
   "id": "22bec9a5",
   "metadata": {},
   "outputs": [
    {
     "data": {
      "text/plain": [
       "1.8860108793527777"
      ]
     },
     "execution_count": 21,
     "metadata": {},
     "output_type": "execute_result"
    }
   ],
   "source": [
    "Z3 = (t3*sqrt(Dgen3))/sqrt(N3)\n",
    "Z3"
   ]
  },
  {
   "cell_type": "code",
   "execution_count": 22,
   "id": "9475e399",
   "metadata": {},
   "outputs": [
    {
     "name": "stdout",
     "output_type": "stream",
     "text": [
      "Искомый доверительный интервал равен (172.31398912064722;176.08601087935276)\n"
     ]
    }
   ],
   "source": [
    "print (f'Искомый доверительный интервал равен ({M3-Z3};{M3+Z3})')"
   ]
  },
  {
   "cell_type": "code",
   "execution_count": null,
   "id": "4e183323",
   "metadata": {},
   "outputs": [],
   "source": []
  }
 ],
 "metadata": {
  "kernelspec": {
   "display_name": "Python 3 (ipykernel)",
   "language": "python",
   "name": "python3"
  },
  "language_info": {
   "codemirror_mode": {
    "name": "ipython",
    "version": 3
   },
   "file_extension": ".py",
   "mimetype": "text/x-python",
   "name": "python",
   "nbconvert_exporter": "python",
   "pygments_lexer": "ipython3",
   "version": "3.9.7"
  }
 },
 "nbformat": 4,
 "nbformat_minor": 5
}
