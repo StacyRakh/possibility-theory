{
 "cells": [
  {
   "cell_type": "markdown",
   "id": "e2cae67d",
   "metadata": {},
   "source": [
    "## Вероятность того, что стрелок попадет в мишень, выстрелив один раз, равна 0.8. Стрелок выстрелил 100 раз. Найдите вероятность того, что стрелок попадет в цель ровно 85 раз."
   ]
  },
  {
   "cell_type": "markdown",
   "id": "b802bab3",
   "metadata": {},
   "source": [
    "Так как число событий невелико, можно применить формулу Бернулли"
   ]
  },
  {
   "cell_type": "code",
   "execution_count": 7,
   "id": "53d98776",
   "metadata": {},
   "outputs": [],
   "source": [
    "import numpy as np\n"
   ]
  },
  {
   "cell_type": "code",
   "execution_count": 8,
   "id": "84e7b7f2",
   "metadata": {},
   "outputs": [],
   "source": [
    "from math import factorial\n",
    "def combinations(n, k):\n",
    "    return int(factorial(n) / (factorial(k) * factorial(n - k)))"
   ]
  },
  {
   "cell_type": "code",
   "execution_count": 15,
   "id": "9530454d",
   "metadata": {},
   "outputs": [],
   "source": [
    "p = 0.8\n",
    "n = 100\n",
    "k = 85\n",
    "p85 = combinations(n, k) * (p**k) * ((1-p)**(n-k))\n"
   ]
  },
  {
   "cell_type": "code",
   "execution_count": 16,
   "id": "192f98fd",
   "metadata": {},
   "outputs": [
    {
     "name": "stdout",
     "output_type": "stream",
     "text": [
      "Вероятность 85-кратного попадания в цель равна 0.048061793700746355\n"
     ]
    }
   ],
   "source": [
    "print (f\"Вероятность 85-кратного попадания в цель равна {p85}\")"
   ]
  },
  {
   "cell_type": "markdown",
   "id": "9c2b9293",
   "metadata": {},
   "source": [
    "## Вероятность того, что лампочка перегорит в течение первого дня эксплуатации, равна 0.0004. В жилом комплексе после ремонта в один день включили 5000 новых лампочек. Какова вероятность, что ни одна из них не перегорит в первый день? Какова вероятность, что перегорят ровно две?"
   ]
  },
  {
   "cell_type": "markdown",
   "id": "21a1b906",
   "metadata": {},
   "source": [
    "Так как число испытаний велико, используем формулу Пуассона"
   ]
  },
  {
   "cell_type": "code",
   "execution_count": 11,
   "id": "a433383a",
   "metadata": {},
   "outputs": [],
   "source": [
    "n = 5000\n",
    "p = 0.0004\n",
    "lambda_ = n * p\n",
    "k0 = 0\n",
    "k2 = 2\n",
    "P0 = (lambda_**k0 / np.math.factorial(k0)) * np.exp(-lambda_)\n",
    "p2 = (lambda_**k2 / np.math.factorial(k2)) * np.exp(-lambda_)"
   ]
  },
  {
   "cell_type": "code",
   "execution_count": 12,
   "id": "bcf1d32f",
   "metadata": {},
   "outputs": [
    {
     "name": "stdout",
     "output_type": "stream",
     "text": [
      "Вероятность, что не перегорит ни одна лампочка равна 0.1353352832366127, две лампочки перегорят с вероятностью 0.2706705664732254\n"
     ]
    }
   ],
   "source": [
    "print (f\"Вероятность, что не перегорит ни одна лампочка равна {P0}, две лампочки перегорят с вероятностью {p2}\")"
   ]
  },
  {
   "cell_type": "markdown",
   "id": "68ac47c9",
   "metadata": {},
   "source": [
    "## Монету подбросили 144 раза. Какова вероятность, что орел выпадет ровно 70 раз?"
   ]
  },
  {
   "cell_type": "markdown",
   "id": "9bea6530",
   "metadata": {},
   "source": [
    "Вероятность выпадения орла или решки равна 0.5"
   ]
  },
  {
   "cell_type": "code",
   "execution_count": 19,
   "id": "686056aa",
   "metadata": {},
   "outputs": [],
   "source": [
    "p = 0.5\n",
    "n = 144\n",
    "k = 70\n",
    "p70 = combinations(n, k) * (p**k) * ((1-p)**(n-k))\n"
   ]
  },
  {
   "cell_type": "code",
   "execution_count": 20,
   "id": "15a9be33",
   "metadata": {},
   "outputs": [
    {
     "name": "stdout",
     "output_type": "stream",
     "text": [
      "Вероятность 70-кратного выпадения орла равна 0.06281178035144776\n"
     ]
    }
   ],
   "source": [
    "print (f\"Вероятность 70-ти кратного выпадения орла {p70}\")"
   ]
  },
  {
   "cell_type": "markdown",
   "id": "c704b7f7",
   "metadata": {},
   "source": [
    "## В первом ящике находится 10 мячей, из которых 7 - белые. Во втором ящике - 11 мячей, из которых 9 белых. Из каждого ящика вытаскивают случайным образом по два мяча. Какова вероятность того, что все мячи белые? "
   ]
  },
  {
   "cell_type": "markdown",
   "id": "09aa7cb6",
   "metadata": {},
   "source": [
    "Порядок совместных независимых событий происходит по следующему алгоритму:\n",
    "1) 1 шар из 1 ящика (их 7 из 10)\n",
    "2) 2-й шар из 1 ящика (остается 6 из 9)\n",
    "3) 1 шар из 2 ящика (9 из 11)\n",
    "4) 2-й шар из 2 ящика (остается 8 из 10)\n"
   ]
  },
  {
   "cell_type": "code",
   "execution_count": 21,
   "id": "d6372e17",
   "metadata": {},
   "outputs": [],
   "source": [
    "Pfour = 7/10 * 6/9 * 9/11 * 8/10\n"
   ]
  },
  {
   "cell_type": "code",
   "execution_count": 22,
   "id": "de8d5921",
   "metadata": {},
   "outputs": [
    {
     "name": "stdout",
     "output_type": "stream",
     "text": [
      "Вероятность вытаскивания всех белых шаров равна 0.3054545454545454\n"
     ]
    }
   ],
   "source": [
    "print (f\"Вероятность вытаскивания всех белых шаров равна {Pfour}\")"
   ]
  },
  {
   "cell_type": "markdown",
   "id": "4f0776d1",
   "metadata": {},
   "source": [
    "## Какова вероятность того, что ровно два мяча белые?"
   ]
  },
  {
   "cell_type": "markdown",
   "id": "83574d72",
   "metadata": {},
   "source": [
    "Комбинации:\n",
    "(2+0)\n",
    "(1+1)\n",
    "(0+2)"
   ]
  },
  {
   "cell_type": "code",
   "execution_count": 25,
   "id": "5063801f",
   "metadata": {},
   "outputs": [],
   "source": [
    "P_1 = 7/10 * 6/9 * 2/11 * 1/10\n",
    "P_2 = ((7/10 * 3/9) + (3/10 * 7/9)) * ((9/11 * 2/10) + (2/11 * 9/10))\n",
    "P_3 = 3/10 * 2/9 * 9/11 * 8/10\n",
    "P_2_2 = P_1+P_2+P_3"
   ]
  },
  {
   "cell_type": "code",
   "execution_count": 26,
   "id": "b24426bd",
   "metadata": {},
   "outputs": [
    {
     "name": "stdout",
     "output_type": "stream",
     "text": [
      "Вероятность вытаскивания двух белых шаров равна 0.20484848484848484\n"
     ]
    }
   ],
   "source": [
    "print (f\"Вероятность вытаскивания двух белых шаров равна {P_2_2}\")"
   ]
  },
  {
   "cell_type": "markdown",
   "id": "c2b46993",
   "metadata": {},
   "source": [
    "## Какова вероятность того, что хотя бы один мяч белый?"
   ]
  },
  {
   "cell_type": "markdown",
   "id": "bc97f049",
   "metadata": {},
   "source": [
    "Это значит, что белых мячей должно быть от 1 до 4. Это несовмместное событие только с выпадением всех небелых шаров. Посчитаем вероятность этого события и вычтем из единицы"
   ]
  },
  {
   "cell_type": "code",
   "execution_count": 28,
   "id": "b5d2dc82",
   "metadata": {},
   "outputs": [],
   "source": [
    "P_3_0= 3/10*2/9*2/11*1/10\n",
    "P_3_1 = 1 - P_3_0"
   ]
  },
  {
   "cell_type": "code",
   "execution_count": 29,
   "id": "5597598c",
   "metadata": {},
   "outputs": [
    {
     "name": "stdout",
     "output_type": "stream",
     "text": [
      "Вероятность вытаскивания хотя бы одного белого шара равна 0.9987878787878788\n"
     ]
    }
   ],
   "source": [
    "print (f\"Вероятность вытаскивания хотя бы одного белого шара равна {P_3_1}\")"
   ]
  },
  {
   "cell_type": "code",
   "execution_count": null,
   "id": "812de55a",
   "metadata": {},
   "outputs": [],
   "source": []
  }
 ],
 "metadata": {
  "kernelspec": {
   "display_name": "Python 3 (ipykernel)",
   "language": "python",
   "name": "python3"
  },
  "language_info": {
   "codemirror_mode": {
    "name": "ipython",
    "version": 3
   },
   "file_extension": ".py",
   "mimetype": "text/x-python",
   "name": "python",
   "nbconvert_exporter": "python",
   "pygments_lexer": "ipython3",
   "version": "3.9.7"
  }
 },
 "nbformat": 4,
 "nbformat_minor": 5
}
