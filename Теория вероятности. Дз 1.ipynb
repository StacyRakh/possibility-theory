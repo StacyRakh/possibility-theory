{
 "cells": [
  {
   "cell_type": "markdown",
   "id": "d05cfc29",
   "metadata": {},
   "source": [
    "## Из колоды в 52 карты извлекаются случайным образом 4 карты. a) Найти вероятность того, что все карты – крести."
   ]
  },
  {
   "cell_type": "code",
   "execution_count": 2,
   "id": "0209bc7f",
   "metadata": {},
   "outputs": [],
   "source": [
    "from math import factorial"
   ]
  },
  {
   "cell_type": "code",
   "execution_count": 3,
   "id": "835ec225",
   "metadata": {},
   "outputs": [],
   "source": [
    "def combinations(n, k):\n",
    "    return int(factorial(n) / (factorial(k) * factorial(n - k)))"
   ]
  },
  {
   "cell_type": "markdown",
   "id": "963dd8c9",
   "metadata": {},
   "source": [
    "количество способов выбора 4 карт из набора крестей"
   ]
  },
  {
   "cell_type": "code",
   "execution_count": 33,
   "id": "2ad78207",
   "metadata": {},
   "outputs": [],
   "source": [
    "a = combinations (13,4)"
   ]
  },
  {
   "cell_type": "markdown",
   "id": "6652a994",
   "metadata": {},
   "source": [
    "количество способов выбора 4 карт из всей колоды"
   ]
  },
  {
   "cell_type": "code",
   "execution_count": 37,
   "id": "05d5b6ff",
   "metadata": {},
   "outputs": [],
   "source": [
    "b = combinations (52,4)"
   ]
  },
  {
   "cell_type": "markdown",
   "id": "9da92ff5",
   "metadata": {},
   "source": [
    "вероятность выбор 4 карт -крестей "
   ]
  },
  {
   "cell_type": "code",
   "execution_count": 43,
   "id": "22fa4b72",
   "metadata": {},
   "outputs": [
    {
     "name": "stdout",
     "output_type": "stream",
     "text": [
      "вероятность выбор 4 карт -крестей 0.0026410564225690276\n"
     ]
    }
   ],
   "source": [
    "print (f'вероятность выбор 4 карт -крестей {a/b}')"
   ]
  },
  {
   "cell_type": "markdown",
   "id": "8c333687",
   "metadata": {},
   "source": [
    " ## Найти вероятность, что среди 4-х карт окажется хотя бы один туз."
   ]
  },
  {
   "cell_type": "markdown",
   "id": "3103024e",
   "metadata": {},
   "source": [
    " действуем по алгоритму 8 примера из методички, только возможны следующие варианты\n",
    "1 туз - 3 другие карты\n",
    "2 туза - 2 другие карты и так до 4 тузов"
   ]
  },
  {
   "cell_type": "markdown",
   "id": "d9737c94",
   "metadata": {},
   "source": [
    "1) сначала посчитаем вероятность выбрать 1 туз из 4 и 3 карты из 48"
   ]
  },
  {
   "cell_type": "code",
   "execution_count": 4,
   "id": "66ea9063",
   "metadata": {},
   "outputs": [],
   "source": [
    "p1 = combinations (4,1)*combinations (48,3)"
   ]
  },
  {
   "cell_type": "code",
   "execution_count": 5,
   "id": "1b8b969a",
   "metadata": {},
   "outputs": [
    {
     "data": {
      "text/plain": [
       "69184"
      ]
     },
     "execution_count": 5,
     "metadata": {},
     "output_type": "execute_result"
    }
   ],
   "source": [
    "p1"
   ]
  },
  {
   "cell_type": "markdown",
   "id": "13b7fe5f",
   "metadata": {},
   "source": [
    "2) 2 туза из 4 и 2 карты из 48"
   ]
  },
  {
   "cell_type": "code",
   "execution_count": 6,
   "id": "aa90491d",
   "metadata": {},
   "outputs": [],
   "source": [
    "p2 = combinations (4,2)*combinations (48,2)"
   ]
  },
  {
   "cell_type": "code",
   "execution_count": 7,
   "id": "35a5df4d",
   "metadata": {},
   "outputs": [
    {
     "data": {
      "text/plain": [
       "6768"
      ]
     },
     "execution_count": 7,
     "metadata": {},
     "output_type": "execute_result"
    }
   ],
   "source": [
    "p2"
   ]
  },
  {
   "cell_type": "markdown",
   "id": "d17ccaf3",
   "metadata": {},
   "source": [
    "3) 3 туза из 4 и 1 карта из 48"
   ]
  },
  {
   "cell_type": "code",
   "execution_count": 10,
   "id": "12259085",
   "metadata": {},
   "outputs": [],
   "source": [
    "p3 = combinations (4,3)*combinations (48,1)"
   ]
  },
  {
   "cell_type": "code",
   "execution_count": 11,
   "id": "628694bf",
   "metadata": {},
   "outputs": [
    {
     "data": {
      "text/plain": [
       "192"
      ]
     },
     "execution_count": 11,
     "metadata": {},
     "output_type": "execute_result"
    }
   ],
   "source": [
    "p3"
   ]
  },
  {
   "cell_type": "code",
   "execution_count": 12,
   "id": "788e353f",
   "metadata": {},
   "outputs": [],
   "source": [
    "p4 = combinations (4,4)*combinations (48,0)"
   ]
  },
  {
   "cell_type": "code",
   "execution_count": 13,
   "id": "6c9e82fd",
   "metadata": {},
   "outputs": [
    {
     "data": {
      "text/plain": [
       "1"
      ]
     },
     "execution_count": 13,
     "metadata": {},
     "output_type": "execute_result"
    }
   ],
   "source": [
    "p4"
   ]
  },
  {
   "cell_type": "markdown",
   "id": "a823eba7",
   "metadata": {},
   "source": [
    "всего способов выбрать 4 карты"
   ]
  },
  {
   "cell_type": "code",
   "execution_count": 16,
   "id": "7c5dc9d8",
   "metadata": {},
   "outputs": [],
   "source": [
    "c = combinations (52,4)"
   ]
  },
  {
   "cell_type": "code",
   "execution_count": 17,
   "id": "f6c904e8",
   "metadata": {},
   "outputs": [],
   "source": [
    "P = (p1+p2+p3+p4)/c"
   ]
  },
  {
   "cell_type": "code",
   "execution_count": 18,
   "id": "5922e8db",
   "metadata": {},
   "outputs": [
    {
     "name": "stdout",
     "output_type": "stream",
     "text": [
      "вероятность выпадения хотя бы одного туза 0.2812632745405855\n"
     ]
    }
   ],
   "source": [
    "print (f'вероятность выпадения хотя бы одного туза {P}')"
   ]
  },
  {
   "cell_type": "markdown",
   "id": "aa008f77",
   "metadata": {},
   "source": [
    "## На входной двери подъезда установлен кодовый замок, содержащий десять кнопок с цифрами от 0 до 9. Код содержит три цифры, которые нужно нажать одновременно. Какова вероятность того, что человек, не знающий код, откроет дверь с первой попытки?"
   ]
  },
  {
   "cell_type": "markdown",
   "id": "0e01783d",
   "metadata": {},
   "source": [
    "посчитаем количество сочетаний выбора 3 цифр из 10 "
   ]
  },
  {
   "cell_type": "code",
   "execution_count": 21,
   "id": "4fc433b2",
   "metadata": {},
   "outputs": [],
   "source": [
    " p = combinations (10,3)"
   ]
  },
  {
   "cell_type": "markdown",
   "id": "c53bed43",
   "metadata": {},
   "source": [
    "так как мы учитываем сочетания, то будет только 1 благоприятный исход (в случае размещения их бы было 3! - 6)"
   ]
  },
  {
   "cell_type": "code",
   "execution_count": 35,
   "id": "b263e1b6",
   "metadata": {},
   "outputs": [
    {
     "name": "stdout",
     "output_type": "stream",
     "text": [
      "вероятность правильного набора кода = 0.00020202020202020202\n"
     ]
    }
   ],
   "source": [
    "print (f'вероятность правильного набора кода = {1/p}')"
   ]
  },
  {
   "cell_type": "markdown",
   "id": "5aea7f8a",
   "metadata": {},
   "source": [
    "## В ящике имеется 15 деталей, из которых 9 окрашены. Рабочий случайным образом извлекает 3 детали. Какова вероятность того, что все извлеченные детали окрашены?"
   ]
  },
  {
   "cell_type": "markdown",
   "id": "b9ff8f77",
   "metadata": {},
   "source": [
    "количество благоприятных исходов"
   ]
  },
  {
   "cell_type": "code",
   "execution_count": 25,
   "id": "95125e5f",
   "metadata": {},
   "outputs": [],
   "source": [
    "pa = combinations (9,3)"
   ]
  },
  {
   "cell_type": "markdown",
   "id": "090fe1b5",
   "metadata": {},
   "source": [
    "всего способов вытаскивания 3 деталей из 15"
   ]
  },
  {
   "cell_type": "code",
   "execution_count": 26,
   "id": "99754850",
   "metadata": {},
   "outputs": [],
   "source": [
    "pab = combinations (15,3)"
   ]
  },
  {
   "cell_type": "code",
   "execution_count": 27,
   "id": "78a7de1a",
   "metadata": {},
   "outputs": [
    {
     "name": "stdout",
     "output_type": "stream",
     "text": [
      "вероятность выыбора 3 окрашенных деталей 0.18461538461538463\n"
     ]
    }
   ],
   "source": [
    "print (f'вероятность выыбора 3 окрашенных деталей {pa/pab}')"
   ]
  },
  {
   "cell_type": "code",
   "execution_count": 28,
   "id": "03eabc7f",
   "metadata": {},
   "outputs": [
    {
     "name": "stdout",
     "output_type": "stream",
     "text": [
      "Object `выигрышными` not found.\n"
     ]
    }
   ],
   "source": [
    "В лотерее 100 билетов. Из них 2 выигрышных. Какова вероятность того, что 2 приобретенных билета окажутся выигрышными?"
   ]
  },
  {
   "cell_type": "markdown",
   "id": "d8f68d34",
   "metadata": {},
   "source": [
    "## В лотерее 100 билетов. Из них 2 выигрышных. Какова вероятность того, что 2 приобретенных билета окажутся выигрышными"
   ]
  },
  {
   "cell_type": "markdown",
   "id": "8b6595f9",
   "metadata": {},
   "source": [
    "действуем по типу задач с картами"
   ]
  },
  {
   "cell_type": "markdown",
   "id": "499338f7",
   "metadata": {},
   "source": [
    "1) посчитаем вероятность выбора двух нужных билетов из 100"
   ]
  },
  {
   "cell_type": "code",
   "execution_count": 29,
   "id": "bcf7ad9c",
   "metadata": {},
   "outputs": [],
   "source": [
    "a1 = combinations (2,2) * combinations (98,0)"
   ]
  },
  {
   "cell_type": "code",
   "execution_count": 30,
   "id": "bb1ee944",
   "metadata": {},
   "outputs": [
    {
     "data": {
      "text/plain": [
       "1"
      ]
     },
     "execution_count": 30,
     "metadata": {},
     "output_type": "execute_result"
    }
   ],
   "source": [
    "a1"
   ]
  },
  {
   "cell_type": "code",
   "execution_count": 33,
   "id": "691f9a42",
   "metadata": {},
   "outputs": [],
   "source": [
    "p = combinations (100,2)"
   ]
  },
  {
   "cell_type": "code",
   "execution_count": 34,
   "id": "38e82a47",
   "metadata": {},
   "outputs": [
    {
     "name": "stdout",
     "output_type": "stream",
     "text": [
      "вероятность покупки 2 выигрышных билетов равна 0.00020202020202020202 \n"
     ]
    }
   ],
   "source": [
    "print (f'вероятность покупки 2 выигрышных билетов равна {1/p} ')"
   ]
  },
  {
   "cell_type": "code",
   "execution_count": null,
   "id": "a935924c",
   "metadata": {},
   "outputs": [],
   "source": []
  }
 ],
 "metadata": {
  "kernelspec": {
   "display_name": "Python 3 (ipykernel)",
   "language": "python",
   "name": "python3"
  },
  "language_info": {
   "codemirror_mode": {
    "name": "ipython",
    "version": 3
   },
   "file_extension": ".py",
   "mimetype": "text/x-python",
   "name": "python",
   "nbconvert_exporter": "python",
   "pygments_lexer": "ipython3",
   "version": "3.9.7"
  }
 },
 "nbformat": 4,
 "nbformat_minor": 5
}
