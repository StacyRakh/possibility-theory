{
 "cells": [
  {
   "cell_type": "code",
   "execution_count": 3,
   "id": "8e7ce383",
   "metadata": {},
   "outputs": [],
   "source": [
    "import math"
   ]
  },
  {
   "cell_type": "markdown",
   "id": "88b75dfa",
   "metadata": {},
   "source": [
    "# Задание 1"
   ]
  },
  {
   "cell_type": "markdown",
   "id": "4048f81d",
   "metadata": {},
   "source": [
    "Даны значения зарплат из выборки выпускников: 100, 80, 75, 77, 89, 33, 45, 25, 65, 17, 30, 24, 57, 55, 70, 75, 65, 84, 90, 150. Посчитать (желательно без использования статистических методов наподобие std, var, mean) среднее арифметическое, среднее квадратичное отклонение, смещенную и несмещенную оценки дисперсий для данной выборки."
   ]
  },
  {
   "cell_type": "markdown",
   "id": "8b757cd6",
   "metadata": {},
   "source": [
    "#### среднее арифмитическое"
   ]
  },
  {
   "cell_type": "code",
   "execution_count": 4,
   "id": "a9ff0151",
   "metadata": {},
   "outputs": [],
   "source": [
    "salary = [100, 80, 75, 77, 89, 33, 45, 25, 65, 17, 30, 24, 57, 55, 70, 75, 65, 84, 90, 150]\n"
   ]
  },
  {
   "cell_type": "code",
   "execution_count": 8,
   "id": "fb611be8",
   "metadata": {},
   "outputs": [
    {
     "data": {
      "text/plain": [
       "65.3"
      ]
     },
     "execution_count": 8,
     "metadata": {},
     "output_type": "execute_result"
    }
   ],
   "source": [
    "mean_salary = sum(salary)/len (salary)\n",
    "mean_salary"
   ]
  },
  {
   "cell_type": "markdown",
   "id": "9f44762d",
   "metadata": {},
   "source": [
    "#### среднее квадратичное отклонение"
   ]
  },
  {
   "cell_type": "code",
   "execution_count": 13,
   "id": "94a73233",
   "metadata": {},
   "outputs": [
    {
     "data": {
      "text/plain": [
       "30.823854398825596"
      ]
     },
     "execution_count": 13,
     "metadata": {},
     "output_type": "execute_result"
    }
   ],
   "source": [
    "sal = 0\n",
    "for number in salary:\n",
    "    sal = sal + ((number - mean_salary)**2)\n",
    "salary_std = math.sqrt(sal / len (salary))\n",
    "salary_std"
   ]
  },
  {
   "cell_type": "markdown",
   "id": "567f1706",
   "metadata": {},
   "source": [
    "#### смещенная оцена дисперсии"
   ]
  },
  {
   "cell_type": "code",
   "execution_count": 15,
   "id": "709f81ea",
   "metadata": {},
   "outputs": [
    {
     "data": {
      "text/plain": [
       "950.11"
      ]
     },
     "execution_count": 15,
     "metadata": {},
     "output_type": "execute_result"
    }
   ],
   "source": [
    "ssigma = sal/len(salary)\n",
    "ssigma\n"
   ]
  },
  {
   "cell_type": "markdown",
   "id": "045db7ae",
   "metadata": {},
   "source": [
    "#### несмещенная оценка дисперсии"
   ]
  },
  {
   "cell_type": "code",
   "execution_count": 16,
   "id": "fc265fc2",
   "metadata": {},
   "outputs": [
    {
     "data": {
      "text/plain": [
       "1000.1157894736842"
      ]
     },
     "execution_count": 16,
     "metadata": {},
     "output_type": "execute_result"
    }
   ],
   "source": [
    "nsigma = sal/(len(salary)-1)\n",
    "nsigma"
   ]
  },
  {
   "cell_type": "markdown",
   "id": "e84bf409",
   "metadata": {},
   "source": [
    "# Задание 2"
   ]
  },
  {
   "cell_type": "markdown",
   "id": "cafb29fc",
   "metadata": {},
   "source": [
    "В первом ящике находится 8 мячей, из которых 5 - белые. Во втором ящике - 12 мячей, из которых 5 белых. Из первого ящика вытаскивают случайным образом два мяча, из второго - 4. Какова вероятность того, что 3 мяча белые?"
   ]
  },
  {
   "cell_type": "markdown",
   "id": "fd77fdec",
   "metadata": {},
   "source": [
    "* 2 белых из первого и 1 белый и 3 обычных из второго\n",
    "* 1 белый и 1 обычный из первого и 2 белых и 2 обычных из второго\n",
    "* 0 белых и 2 обычных из первого и 3 белых и 1 обычный из второго\n",
    "* 0 белых и 2 обычных из первого и 4 белых из второго"
   ]
  },
  {
   "cell_type": "code",
   "execution_count": 18,
   "id": "1766a2cb",
   "metadata": {},
   "outputs": [
    {
     "data": {
      "text/plain": [
       "0.055239898989898985"
      ]
     },
     "execution_count": 18,
     "metadata": {},
     "output_type": "execute_result"
    }
   ],
   "source": [
    "p2_1 = 5/8 * 4/7 * 5/12 * 7/11 * 6/10 * 5/9\n",
    "p1_2 = 5/8 * 3/7 * 5/12 * 4/11 * 7/10 * 6/9\n",
    "p0_3 = 3/8 * 2/7 * 5/12 * 4/11 * 3/10 * 7/9\n",
    "p0_4 = 3/8 * 2/8 * 5/12 * 4/11 * 3/10 * 2/9\n",
    "P = p2_1 + p1_2 + p0_3 + p0_4\n",
    "P"
   ]
  },
  {
   "cell_type": "markdown",
   "id": "7b168fd6",
   "metadata": {},
   "source": [
    "## Задание 3"
   ]
  },
  {
   "cell_type": "markdown",
   "id": "625797b1",
   "metadata": {},
   "source": [
    "На соревновании по биатлону один из трех спортсменов стреляет и попадает в мишень. Вероятность попадания для первого спортсмена равна 0.9, для второго — 0.8, для третьего — 0.6. Найти вероятность того, что выстрел произведен: a). первым спортсменом б). вторым спортсменом в). третьим спортсменом."
   ]
  },
  {
   "cell_type": "markdown",
   "id": "ce08783f",
   "metadata": {},
   "source": [
    "##### вероятность выстрела одного из спортсменов равна 1/3"
   ]
  },
  {
   "cell_type": "code",
   "execution_count": 19,
   "id": "2617d3dc",
   "metadata": {},
   "outputs": [],
   "source": [
    "p1 = 0.9\n",
    "p2 = 0.8\n",
    "p3 = 0.6\n",
    "B1 = 1/3\n",
    "B2 = 1/3\n",
    "B3 = 1/3"
   ]
  },
  {
   "cell_type": "code",
   "execution_count": 20,
   "id": "d5059a51",
   "metadata": {},
   "outputs": [
    {
     "data": {
      "text/plain": [
       "0.7666666666666666"
      ]
     },
     "execution_count": 20,
     "metadata": {},
     "output_type": "execute_result"
    }
   ],
   "source": [
    "Pgoal = p1*B1+p2*B2+p3*B3\n",
    "Pgoal"
   ]
  },
  {
   "cell_type": "code",
   "execution_count": 21,
   "id": "f3a56552",
   "metadata": {},
   "outputs": [
    {
     "name": "stdout",
     "output_type": "stream",
     "text": [
      "Вероятность выстрела первого спортсмена равна 0.391304347826087\n"
     ]
    }
   ],
   "source": [
    "print (f\"Вероятность выстрела первого спортсмена равна {p1*B1/Pgoal}\")"
   ]
  },
  {
   "cell_type": "code",
   "execution_count": 22,
   "id": "e6310b02",
   "metadata": {},
   "outputs": [
    {
     "name": "stdout",
     "output_type": "stream",
     "text": [
      "Вероятность выстрела первого спортсмена равна 0.3478260869565218\n"
     ]
    }
   ],
   "source": [
    "print (f\"Вероятность выстрела второго спортсмена равна {p2*B2/Pgoal}\")"
   ]
  },
  {
   "cell_type": "code",
   "execution_count": 23,
   "id": "5d60fe44",
   "metadata": {},
   "outputs": [
    {
     "name": "stdout",
     "output_type": "stream",
     "text": [
      "Вероятность выстрела третьего спортсмена равна 0.2608695652173913\n"
     ]
    }
   ],
   "source": [
    "print (f\"Вероятность выстрела третьего спортсмена равна {p3*B3/Pgoal}\")"
   ]
  },
  {
   "cell_type": "markdown",
   "id": "5ae59300",
   "metadata": {},
   "source": [
    "## Задание 4"
   ]
  },
  {
   "cell_type": "markdown",
   "id": "446878db",
   "metadata": {},
   "source": [
    "В университет на факультеты A и B поступило равное количество студентов, а на факультет C студентов поступило столько же, сколько на A и B вместе. Вероятность того, что студент факультета A сдаст первую сессию, равна 0.8. Для студента факультета B эта вероятность равна 0.7, а для студента факультета C - 0.9. Студент сдал первую сессию. Какова вероятность, что он учится: a). на факультете A б). на факультете B в). на факультете C?"
   ]
  },
  {
   "cell_type": "code",
   "execution_count": 25,
   "id": "998aea8d",
   "metadata": {},
   "outputs": [],
   "source": [
    "p12 = 0.8\n",
    "p22 = 0.7\n",
    "p32 = 0.9\n",
    "F1 = 1/4\n",
    "F2 = 1/4\n",
    "F3 = 1/2"
   ]
  },
  {
   "cell_type": "code",
   "execution_count": 27,
   "id": "b97a898f",
   "metadata": {},
   "outputs": [
    {
     "data": {
      "text/plain": [
       "0.825"
      ]
     },
     "execution_count": 27,
     "metadata": {},
     "output_type": "execute_result"
    }
   ],
   "source": [
    "Ppass = p12*F1+p22*F2+p32*F3\n",
    "Ppass"
   ]
  },
  {
   "cell_type": "code",
   "execution_count": 28,
   "id": "80fbada1",
   "metadata": {},
   "outputs": [
    {
     "name": "stdout",
     "output_type": "stream",
     "text": [
      "Вероятность того, что экзамен сдал студент факультета А равна 0.24242424242424246\n"
     ]
    }
   ],
   "source": [
    "print (f\"Вероятность того, что экзамен сдал студент факультета А равна {p12*F1/Ppass}\")"
   ]
  },
  {
   "cell_type": "code",
   "execution_count": 29,
   "id": "75d06871",
   "metadata": {},
   "outputs": [
    {
     "name": "stdout",
     "output_type": "stream",
     "text": [
      "Вероятность того, что экзамен сдал студент факультета B равна 0.21212121212121213\n"
     ]
    }
   ],
   "source": [
    "print (f\"Вероятность того, что экзамен сдал студент факультета B равна {p22*F2/Ppass}\")"
   ]
  },
  {
   "cell_type": "code",
   "execution_count": 30,
   "id": "93e9403d",
   "metadata": {},
   "outputs": [
    {
     "name": "stdout",
     "output_type": "stream",
     "text": [
      "Вероятность того, что экзамен сдал студент факультета C равна 0.5454545454545455\n"
     ]
    }
   ],
   "source": [
    "print (f\"Вероятность того, что экзамен сдал студент факультета C равна {p32*F3/Ppass}\")"
   ]
  },
  {
   "cell_type": "markdown",
   "id": "acfe0bc8",
   "metadata": {},
   "source": [
    "# Задание 5"
   ]
  },
  {
   "cell_type": "markdown",
   "id": "e30062b6",
   "metadata": {},
   "source": [
    "Устройство состоит из трех деталей. Для первой детали вероятность выйти из строя в первый месяц равна 0.1, для второй - 0.2, для третьей - 0.25. Какова вероятность того, что в первый месяц выйдут из строя: а). все детали б). только две детали в). хотя бы одна деталь г). от одной до двух деталей?"
   ]
  },
  {
   "cell_type": "code",
   "execution_count": 33,
   "id": "e2d7dad4",
   "metadata": {},
   "outputs": [
    {
     "name": "stdout",
     "output_type": "stream",
     "text": [
      "Вероятность того, что все детали выйдут из строя равна 0.005000000000000001\n"
     ]
    }
   ],
   "source": [
    "Pall = 0.1*0.2*0.25\n",
    "print (f\"Вероятность того, что все детали выйдут из строя равна {Pall}\")"
   ]
  },
  {
   "cell_type": "code",
   "execution_count": 38,
   "id": "2be5e419",
   "metadata": {},
   "outputs": [
    {
     "name": "stdout",
     "output_type": "stream",
     "text": [
      "Вероятность того, что из строя выйдут 2 детали 0.08000000000000002\n"
     ]
    }
   ],
   "source": [
    "Ptwo = 0.1*0.2*0.75+0.1*0.25*0.8+0.9*0.2*0.25\n",
    "print (f\"Вероятность того, что из строя выйдут 2 детали {Ptwo}\")"
   ]
  },
  {
   "cell_type": "code",
   "execution_count": 41,
   "id": "3c8dac2a",
   "metadata": {},
   "outputs": [
    {
     "name": "stdout",
     "output_type": "stream",
     "text": [
      "Вероятность того, что из строя выйдет 1-2 детали 0.45499999999999996\n"
     ]
    }
   ],
   "source": [
    "Pone = 1 - Pall - (0.9*0.8*0.75)\n",
    "print (f\"Вероятность того, что из строя выйдет 1-2 детали {Pone}\")"
   ]
  },
  {
   "cell_type": "code",
   "execution_count": null,
   "id": "35dd33a2",
   "metadata": {},
   "outputs": [],
   "source": []
  }
 ],
 "metadata": {
  "kernelspec": {
   "display_name": "Python 3 (ipykernel)",
   "language": "python",
   "name": "python3"
  },
  "language_info": {
   "codemirror_mode": {
    "name": "ipython",
    "version": 3
   },
   "file_extension": ".py",
   "mimetype": "text/x-python",
   "name": "python",
   "nbconvert_exporter": "python",
   "pygments_lexer": "ipython3",
   "version": "3.9.7"
  }
 },
 "nbformat": 4,
 "nbformat_minor": 5
}
