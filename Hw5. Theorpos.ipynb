{
 "cells": [
  {
   "cell_type": "code",
   "execution_count": 36,
   "id": "94ef0a52",
   "metadata": {},
   "outputs": [],
   "source": [
    "from math import sqrt\n"
   ]
  },
  {
   "cell_type": "markdown",
   "id": "4096882c",
   "metadata": {},
   "source": [
    "## Задание 1"
   ]
  },
  {
   "cell_type": "markdown",
   "id": "3c403c3c",
   "metadata": {},
   "source": [
    "Известно, что генеральная совокупность распределена нормально\n",
    "со средним квадратическим отклонением, равным 16.\n",
    "Найти доверительный интервал для оценки математического ожидания a с надежностью 0.95, если выборочная средняя M = 80, а объем выборки n = 256"
   ]
  },
  {
   "cell_type": "code",
   "execution_count": 27,
   "id": "4e139ab2",
   "metadata": {},
   "outputs": [],
   "source": [
    "sigma1 = 16\n",
    "y1 = 0.95\n",
    "M1 = 80\n",
    "N1 = 256\n"
   ]
  },
  {
   "cell_type": "code",
   "execution_count": 28,
   "id": "0bc93bac",
   "metadata": {},
   "outputs": [
    {
     "data": {
      "text/plain": [
       "1.96"
      ]
     },
     "execution_count": 28,
     "metadata": {},
     "output_type": "execute_result"
    }
   ],
   "source": [
    "Z1 = (1.96*sigma1)/math.sqrt(N1)\n",
    "Z1"
   ]
  },
  {
   "cell_type": "code",
   "execution_count": 29,
   "id": "d7c999ff",
   "metadata": {},
   "outputs": [
    {
     "name": "stdout",
     "output_type": "stream",
     "text": [
      "Искомый доверительный интервал равен (78.04;81.96)\n"
     ]
    }
   ],
   "source": [
    "print (f'Искомый доверительный интервал равен ({M1-Z1};{M1+Z1})')"
   ]
  },
  {
   "cell_type": "markdown",
   "id": "a49aa187",
   "metadata": {},
   "source": [
    "## Задание 2"
   ]
  },
  {
   "cell_type": "markdown",
   "id": "8752d883",
   "metadata": {},
   "source": [
    "В результате 10 независимых измерений некоторой величины X, выполненных с одинаковой точностью,\n",
    "получены опытные данные:\n",
    "6.9, 6.1, 6.2, 6.8, 7.5, 6.3, 6.4, 6.9, 6.7, 6.1\n",
    "Предполагая, что результаты измерений подчинены нормальному закону распределения вероятностей,\n",
    "оценить истинное значение величины X при помощи доверительного интервала, покрывающего это\n",
    "значение с доверительной вероятностью 0,95."
   ]
  },
  {
   "cell_type": "code",
   "execution_count": 61,
   "id": "92f0f9e1",
   "metadata": {},
   "outputs": [
    {
     "data": {
      "text/plain": [
       "[6.9, 6.1, 6.2, 6.8, 7.5, 6.3, 6.4, 6.9, 6.7, 6.1]"
      ]
     },
     "execution_count": 61,
     "metadata": {},
     "output_type": "execute_result"
    }
   ],
   "source": [
    "vyb = [6.9, 6.1, 6.2, 6.8, 7.5, 6.3, 6.4, 6.9, 6.7, 6.1]\n",
    "vyb"
   ]
  },
  {
   "cell_type": "code",
   "execution_count": 62,
   "id": "8e15dccd",
   "metadata": {},
   "outputs": [
    {
     "data": {
      "text/plain": [
       "6.589999999999999"
      ]
     },
     "execution_count": 62,
     "metadata": {},
     "output_type": "execute_result"
    }
   ],
   "source": [
    "M2 = sum (vyb)/len (vyb)\n",
    "M2"
   ]
  },
  {
   "cell_type": "code",
   "execution_count": 63,
   "id": "e9dee106",
   "metadata": {},
   "outputs": [
    {
     "data": {
      "text/plain": [
       "0.42766809560686203"
      ]
     },
     "execution_count": 63,
     "metadata": {},
     "output_type": "execute_result"
    }
   ],
   "source": [
    "sqt2 = 0\n",
    "for number in vyb:\n",
    "    sqt2 = sqt2 + ((number - M2)**2)\n",
    "vyb_std = math.sqrt(sqt2 / len (vyb))\n",
    "vyb_std"
   ]
  },
  {
   "cell_type": "code",
   "execution_count": 64,
   "id": "14ad3b4f",
   "metadata": {},
   "outputs": [],
   "source": [
    "tst = 2.26"
   ]
  },
  {
   "cell_type": "code",
   "execution_count": 70,
   "id": "bc9fb610",
   "metadata": {},
   "outputs": [
    {
     "data": {
      "text/plain": [
       "0.3056435898231795"
      ]
     },
     "execution_count": 70,
     "metadata": {},
     "output_type": "execute_result"
    }
   ],
   "source": [
    "Z2 = tst*vyb_std/math.sqrt(len(vyb))\n",
    "Z2"
   ]
  },
  {
   "cell_type": "code",
   "execution_count": 71,
   "id": "778502ba",
   "metadata": {},
   "outputs": [
    {
     "name": "stdout",
     "output_type": "stream",
     "text": [
      "Искомый доверительный интервал равен (6.2843564101768195;6.8956435898231785)\n"
     ]
    }
   ],
   "source": [
    "print (f'Искомый доверительный интервал равен ({M2-Z2};{M2+Z2})')"
   ]
  },
  {
   "cell_type": "markdown",
   "id": "97b17158",
   "metadata": {},
   "source": [
    "## Задание 3"
   ]
  },
  {
   "cell_type": "markdown",
   "id": "7cb872eb",
   "metadata": {},
   "source": [
    "Утверждается, что шарики для подшипников, изготовленные автоматическим станком, имеют средний диаметр 17 мм.\n",
    "Используя односторонний критерий с α=0,05, проверить эту гипотезу, если в выборке из n=100 шариков средний диаметр\n",
    "оказался равным 17.5 мм, а дисперсия известна и равна 4 мм."
   ]
  },
  {
   "cell_type": "code",
   "execution_count": 73,
   "id": "3fbf5a65",
   "metadata": {},
   "outputs": [],
   "source": [
    "M3 = 17\n",
    "M03 = 17.5\n",
    "D3 = 4\n",
    "N3 = 100\n",
    "alf = 0.05\n"
   ]
  },
  {
   "cell_type": "code",
   "execution_count": 74,
   "id": "33f38638",
   "metadata": {},
   "outputs": [
    {
     "data": {
      "text/plain": [
       "2.5"
      ]
     },
     "execution_count": 74,
     "metadata": {},
     "output_type": "execute_result"
    }
   ],
   "source": [
    "Unab = (M03 - M3)*sqrt (N3)/sqrt (D3)\n",
    "Unab"
   ]
  },
  {
   "cell_type": "markdown",
   "id": "30888a28",
   "metadata": {},
   "source": [
    "По таблице U критическое примерно равно 1,645"
   ]
  },
  {
   "cell_type": "markdown",
   "id": "8850ea19",
   "metadata": {},
   "source": [
    "Так как U наблюдаемое больше критического, значит нулевая гипотеза отклоняется на уровне значимости 0.05"
   ]
  },
  {
   "cell_type": "markdown",
   "id": "7f458816",
   "metadata": {},
   "source": [
    "## Задание 4"
   ]
  },
  {
   "cell_type": "markdown",
   "id": "a6290f9d",
   "metadata": {},
   "source": [
    "Продавец утверждает, что средний вес пачки печенья составляет 200 г.\n",
    "Из партии извлечена выборка из 10 пачек. Вес каждой пачки составляет:\n",
    "202, 203, 199, 197, 195, 201, 200, 204, 194, 190.\n",
    "Известно, что их веса распределены нормально.\n",
    "Верно ли утверждение продавца, если учитывать, что доверительная вероятность равна 99%?"
   ]
  },
  {
   "cell_type": "code",
   "execution_count": 80,
   "id": "fe705a51",
   "metadata": {},
   "outputs": [],
   "source": [
    "vyb4 = [202, 203, 199, 197, 195, 201, 200, 204, 194, 190]\n",
    "M4 = sum (vyb4)/len (vyb4)\n",
    "M04 = 200\n",
    "N3 = len (vyb4)\n",
    "alf = 0.01\n"
   ]
  },
  {
   "cell_type": "code",
   "execution_count": 81,
   "id": "466c9887",
   "metadata": {},
   "outputs": [],
   "source": [
    "sqt4 = 0\n",
    "for number in vyb4:\n",
    "    sqt4 = sqt4 + ((number - M4)**2)\n",
    "vyb_std4 = math.sqrt(sqt4 / len (vyb4))"
   ]
  },
  {
   "cell_type": "code",
   "execution_count": 82,
   "id": "7e248735",
   "metadata": {},
   "outputs": [
    {
     "data": {
      "text/plain": [
       "1.1227217828476794"
      ]
     },
     "execution_count": 82,
     "metadata": {},
     "output_type": "execute_result"
    }
   ],
   "source": [
    "Unab4 = (M04 - M4)*sqrt (len(vyb4))/vyb_std4\n",
    "Unab4"
   ]
  },
  {
   "cell_type": "code",
   "execution_count": 83,
   "id": "9d982944",
   "metadata": {},
   "outputs": [],
   "source": [
    "Ukr = 2.325"
   ]
  },
  {
   "cell_type": "markdown",
   "id": "939ef9ec",
   "metadata": {},
   "source": [
    "Т.к наблюдаемое значение меньше критического, нулевая гипотеза принимается "
   ]
  },
  {
   "cell_type": "code",
   "execution_count": null,
   "id": "ac328c46",
   "metadata": {},
   "outputs": [],
   "source": []
  }
 ],
 "metadata": {
  "kernelspec": {
   "display_name": "Python 3 (ipykernel)",
   "language": "python",
   "name": "python3"
  },
  "language_info": {
   "codemirror_mode": {
    "name": "ipython",
    "version": 3
   },
   "file_extension": ".py",
   "mimetype": "text/x-python",
   "name": "python",
   "nbconvert_exporter": "python",
   "pygments_lexer": "ipython3",
   "version": "3.9.7"
  }
 },
 "nbformat": 4,
 "nbformat_minor": 5
}
