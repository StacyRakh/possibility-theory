{
 "cells": [
  {
   "cell_type": "markdown",
   "id": "508a9bd5",
   "metadata": {},
   "source": [
    "## Задание 1"
   ]
  },
  {
   "cell_type": "markdown",
   "id": "8b9c08f8",
   "metadata": {},
   "source": [
    "Случайная непрерывная величина A имеет равномерное распределение на промежутке (200, 800].\n",
    "Найдите ее среднее значение и дисперсию."
   ]
  },
  {
   "cell_type": "code",
   "execution_count": 1,
   "id": "1078e221",
   "metadata": {},
   "outputs": [
    {
     "data": {
      "text/plain": [
       "500.0"
      ]
     },
     "execution_count": 1,
     "metadata": {},
     "output_type": "execute_result"
    }
   ],
   "source": [
    "aA = 200\n",
    "bA = 800\n",
    "MA = (aA+bA)/2\n",
    "MA"
   ]
  },
  {
   "cell_type": "code",
   "execution_count": 2,
   "id": "5ef4dacf",
   "metadata": {},
   "outputs": [
    {
     "data": {
      "text/plain": [
       "30000.0"
      ]
     },
     "execution_count": 2,
     "metadata": {},
     "output_type": "execute_result"
    }
   ],
   "source": [
    "sigmaA = ((bA-aA)**2)/12\n",
    "sigmaA"
   ]
  },
  {
   "cell_type": "markdown",
   "id": "4beb7723",
   "metadata": {},
   "source": [
    "## Задание 2"
   ]
  },
  {
   "cell_type": "markdown",
   "id": "2b6424a4",
   "metadata": {},
   "source": [
    "О случайной непрерывной равномерно распределенной величине B известно, что ее дисперсия равна 0.2.\n",
    "Можно ли найти правую границу величины B и ее среднее значение зная, что левая граница равна 0.5?\n",
    "Если да, найдите ее."
   ]
  },
  {
   "cell_type": "code",
   "execution_count": 5,
   "id": "f4704e3b",
   "metadata": {},
   "outputs": [],
   "source": [
    "sigmaB = 0.2\n",
    "aB = 0.5\n"
   ]
  },
  {
   "cell_type": "code",
   "execution_count": 6,
   "id": "8586e9f4",
   "metadata": {},
   "outputs": [],
   "source": [
    "from math import sqrt"
   ]
  },
  {
   "cell_type": "code",
   "execution_count": 7,
   "id": "cc2ba74c",
   "metadata": {},
   "outputs": [
    {
     "data": {
      "text/plain": [
       "2.049193338482967"
      ]
     },
     "execution_count": 7,
     "metadata": {},
     "output_type": "execute_result"
    }
   ],
   "source": [
    "bB1 = sqrt (12*sigmaB)+aB\n",
    "bB2 = - sqrt (12*sigmaB)+aB\n",
    "bB1\n"
   ]
  },
  {
   "cell_type": "code",
   "execution_count": 8,
   "id": "5ddcd45d",
   "metadata": {},
   "outputs": [
    {
     "data": {
      "text/plain": [
       "-1.0491933384829668"
      ]
     },
     "execution_count": 8,
     "metadata": {},
     "output_type": "execute_result"
    }
   ],
   "source": [
    "bB2"
   ]
  },
  {
   "cell_type": "code",
   "execution_count": 11,
   "id": "4f32f2a0",
   "metadata": {},
   "outputs": [
    {
     "name": "stdout",
     "output_type": "stream",
     "text": [
      "правая границы величины B равна 2.049193338482967, а ее среднее значение равно 1.2745966692414834\n"
     ]
    }
   ],
   "source": [
    "if bB1 > aB:\n",
    "    print (f'правая границы величины B равна {bB1}, а ее среднее значение равно {(aB+bB1)/2}')\n",
    "elif bB2 > aB:\n",
    "    print (f'правая границы величины B равна {bB2}, а ее среднее значение равно {(aB+bB2)/2}')"
   ]
  },
  {
   "cell_type": "markdown",
   "id": "f5eacfdb",
   "metadata": {},
   "source": [
    "## Задание 3"
   ]
  },
  {
   "cell_type": "markdown",
   "id": "ad49974b",
   "metadata": {},
   "source": [
    "Непрерывная случайная величина X распределена нормально и задана плотностью распределения\n",
    "f(x) = (1 / (4 * sqrt(2*pi))) * (exp(-(x+2)**2) / 32).\n",
    "Найдите:\n",
    "а). M(X)\n",
    "б). D(X)\n",
    "в). std(X) (среднее квадратичное отклонение)"
   ]
  },
  {
   "cell_type": "markdown",
   "id": "bf18a21f",
   "metadata": {},
   "source": [
    "обратимся к функции нормального распределения и выберем из заданной формулы значения, при котором заданная функция нормально распределена "
   ]
  },
  {
   "cell_type": "markdown",
   "id": "02a5b363",
   "metadata": {},
   "source": [
    "* M(X) = -2\n",
    "* std(X) = 4\n",
    "* D(x) = 16"
   ]
  },
  {
   "cell_type": "markdown",
   "id": "22aa6027",
   "metadata": {},
   "source": [
    "## Задание 4"
   ]
  },
  {
   "cell_type": "markdown",
   "id": "301c8205",
   "metadata": {},
   "source": [
    "Рост взрослого населения города X имеет нормальное распределение.\n",
    "Причем, средний рост равен 174 см, а среднее квадратичное отклонение равно 8 см.\n",
    "Какова вероятность того, что случайным образом выбранный взрослый человек имеет рост:\n"
   ]
  },
  {
   "cell_type": "code",
   "execution_count": 14,
   "id": "5446f800",
   "metadata": {},
   "outputs": [],
   "source": [
    "mX = 174\n",
    "stdX = 8"
   ]
  },
  {
   "cell_type": "markdown",
   "id": "b4cf5816",
   "metadata": {},
   "source": [
    " а). больше 182 см"
   ]
  },
  {
   "cell_type": "code",
   "execution_count": 15,
   "id": "a6570f97",
   "metadata": {},
   "outputs": [
    {
     "data": {
      "text/plain": [
       "1.0"
      ]
     },
     "execution_count": 15,
     "metadata": {},
     "output_type": "execute_result"
    }
   ],
   "source": [
    "Z1 = (182-mX)/stdX\n",
    "Z1\n"
   ]
  },
  {
   "cell_type": "code",
   "execution_count": 19,
   "id": "419d4b35",
   "metadata": {},
   "outputs": [
    {
     "name": "stdout",
     "output_type": "stream",
     "text": [
      "вероятность того, что рост выбранного человека будет больше 182 см равна 0.15866000000000002\n"
     ]
    }
   ],
   "source": [
    "P1 = 1 - 0.84134\n",
    "print (f'вероятность того, что рост выбранного человека будет больше 182 см равна {P1}')"
   ]
  },
  {
   "cell_type": "markdown",
   "id": "03432b24",
   "metadata": {},
   "source": [
    "б). больше 190 см"
   ]
  },
  {
   "cell_type": "code",
   "execution_count": 21,
   "id": "46a5740f",
   "metadata": {},
   "outputs": [
    {
     "data": {
      "text/plain": [
       "2.0"
      ]
     },
     "execution_count": 21,
     "metadata": {},
     "output_type": "execute_result"
    }
   ],
   "source": [
    "Z2 = (190-mX)/stdX\n",
    "Z2"
   ]
  },
  {
   "cell_type": "code",
   "execution_count": 22,
   "id": "b2889741",
   "metadata": {},
   "outputs": [
    {
     "name": "stdout",
     "output_type": "stream",
     "text": [
      "вероятность того, что рост выбранного человека будет больше 190 см равна 0.022750000000000048\n"
     ]
    }
   ],
   "source": [
    "P2 = 1 - 0.97725\n",
    "print (f'вероятность того, что рост выбранного человека будет больше 190 см равна {P2}')"
   ]
  },
  {
   "cell_type": "markdown",
   "id": "6200de8d",
   "metadata": {},
   "source": [
    "в). от 166 см до 190 см"
   ]
  },
  {
   "cell_type": "code",
   "execution_count": 24,
   "id": "f1b25e5d",
   "metadata": {},
   "outputs": [
    {
     "data": {
      "text/plain": [
       "-1.0"
      ]
     },
     "execution_count": 24,
     "metadata": {},
     "output_type": "execute_result"
    }
   ],
   "source": [
    "Z3 = (166-mX)/stdX\n",
    "Z3"
   ]
  },
  {
   "cell_type": "code",
   "execution_count": 28,
   "id": "55cee941",
   "metadata": {},
   "outputs": [
    {
     "name": "stdout",
     "output_type": "stream",
     "text": [
      "вероятность того, что рост выбранного человека будет больше 166 см но меньше 190 равна 0.8185499999999999\n"
     ]
    }
   ],
   "source": [
    "P3 = 1 - 0.1587\n",
    "print (f'вероятность того, что рост выбранного человека будет больше 166 см но меньше 190 равна {P3 - P2}')"
   ]
  },
  {
   "cell_type": "markdown",
   "id": "f8430235",
   "metadata": {},
   "source": [
    "г). от 166 см до 182 см"
   ]
  },
  {
   "cell_type": "code",
   "execution_count": 30,
   "id": "3b37402f",
   "metadata": {},
   "outputs": [
    {
     "name": "stdout",
     "output_type": "stream",
     "text": [
      "вероятность того, что рост выбранного человека будет от 166 до 182 см равна 0.6826399999999999\n"
     ]
    }
   ],
   "source": [
    "print (f'вероятность того, что рост выбранного человека будет от 166 до 182 см равна {P3 - P1}')"
   ]
  },
  {
   "cell_type": "markdown",
   "id": "c79d2197",
   "metadata": {},
   "source": [
    "д) от 158 до 190"
   ]
  },
  {
   "cell_type": "code",
   "execution_count": 32,
   "id": "45a493b0",
   "metadata": {},
   "outputs": [
    {
     "data": {
      "text/plain": [
       "-2.0"
      ]
     },
     "execution_count": 32,
     "metadata": {},
     "output_type": "execute_result"
    }
   ],
   "source": [
    "Z4 = (158-mX)/stdX\n",
    "Z4"
   ]
  },
  {
   "cell_type": "code",
   "execution_count": 33,
   "id": "77c47241",
   "metadata": {},
   "outputs": [
    {
     "name": "stdout",
     "output_type": "stream",
     "text": [
      "вероятность того, что рост выбранного человека будет от 158 до 190 см равна 0.9544499999999999\n"
     ]
    }
   ],
   "source": [
    "P4 = 1-0.0228\n",
    "print (f'вероятность того, что рост выбранного человека будет от 158 до 190 см равна {P4 - P2}')"
   ]
  },
  {
   "cell_type": "markdown",
   "id": "8db6cb91",
   "metadata": {},
   "source": [
    "е). не выше 150 см или не ниже 190 см"
   ]
  },
  {
   "cell_type": "code",
   "execution_count": 34,
   "id": "f5b33ad2",
   "metadata": {},
   "outputs": [
    {
     "data": {
      "text/plain": [
       "-3.0"
      ]
     },
     "execution_count": 34,
     "metadata": {},
     "output_type": "execute_result"
    }
   ],
   "source": [
    "Z5 = (150-mX)/stdX\n",
    "Z5"
   ]
  },
  {
   "cell_type": "code",
   "execution_count": 37,
   "id": "2cbde7cc",
   "metadata": {},
   "outputs": [
    {
     "name": "stdout",
     "output_type": "stream",
     "text": [
      "вероятность того, что рост выбранного человека будет не выше 150 или не ниже 190 см равна 0.024050000000000047\n"
     ]
    }
   ],
   "source": [
    "P5 = 0.0013\n",
    "print (f'вероятность того, что рост выбранного человека будет не выше 150 или не ниже 190 см равна {P5+P2}')"
   ]
  },
  {
   "cell_type": "markdown",
   "id": "39ece691",
   "metadata": {},
   "source": [
    "ё). не выше 150 см или не ниже 198 см"
   ]
  },
  {
   "cell_type": "code",
   "execution_count": 38,
   "id": "432bb1a3",
   "metadata": {},
   "outputs": [
    {
     "data": {
      "text/plain": [
       "3.0"
      ]
     },
     "execution_count": 38,
     "metadata": {},
     "output_type": "execute_result"
    }
   ],
   "source": [
    "Z6 = (198-mX)/stdX\n",
    "Z6"
   ]
  },
  {
   "cell_type": "code",
   "execution_count": 39,
   "id": "88688a58",
   "metadata": {},
   "outputs": [
    {
     "name": "stdout",
     "output_type": "stream",
     "text": [
      "вероятность того, что рост выбранного человека будет не выше 150 или не ниже 198 см равна 0.0026499999999999623\n"
     ]
    }
   ],
   "source": [
    "P6 = 1- 0.99865\n",
    "print (f'вероятность того, что рост выбранного человека будет не выше 150 или не ниже 198 см равна {P5+P6}')"
   ]
  },
  {
   "cell_type": "markdown",
   "id": "66ef10c2",
   "metadata": {},
   "source": [
    "ж). ниже 166 см."
   ]
  },
  {
   "cell_type": "code",
   "execution_count": 41,
   "id": "1c453da1",
   "metadata": {},
   "outputs": [
    {
     "name": "stdout",
     "output_type": "stream",
     "text": [
      "вероятность того, что рост выбранного человека будет ниже 166 см  0.15870000000000006\n"
     ]
    }
   ],
   "source": [
    "print (f'вероятность того, что рост выбранного человека будет ниже 166 см  {1 -P3}')"
   ]
  },
  {
   "cell_type": "markdown",
   "id": "6cb5b73b",
   "metadata": {},
   "source": [
    "## Задание 5"
   ]
  },
  {
   "cell_type": "markdown",
   "id": "597f19c9",
   "metadata": {},
   "source": [
    "На сколько сигм (средних квадратичных отклонений) отклоняется рост человека, равный 190 см, от\n",
    "математического ожидания роста в популяции, в которой M(X) = 178 см и D(X) = 25 кв.см?"
   ]
  },
  {
   "cell_type": "code",
   "execution_count": 44,
   "id": "16df5ad4",
   "metadata": {},
   "outputs": [
    {
     "data": {
      "text/plain": [
       "2.4"
      ]
     },
     "execution_count": 44,
     "metadata": {},
     "output_type": "execute_result"
    }
   ],
   "source": [
    "Z = (190 - 178)/5\n",
    "Z"
   ]
  },
  {
   "cell_type": "code",
   "execution_count": null,
   "id": "cc69c71b",
   "metadata": {},
   "outputs": [],
   "source": []
  }
 ],
 "metadata": {
  "kernelspec": {
   "display_name": "Python 3 (ipykernel)",
   "language": "python",
   "name": "python3"
  },
  "language_info": {
   "codemirror_mode": {
    "name": "ipython",
    "version": 3
   },
   "file_extension": ".py",
   "mimetype": "text/x-python",
   "name": "python",
   "nbconvert_exporter": "python",
   "pygments_lexer": "ipython3",
   "version": "3.9.7"
  }
 },
 "nbformat": 4,
 "nbformat_minor": 5
}
